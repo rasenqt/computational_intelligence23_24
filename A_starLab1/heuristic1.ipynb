{
 "cells": [
  {
   "cell_type": "code",
   "execution_count": 71,
   "metadata": {},
   "outputs": [],
   "source": [
    "from random import random\n",
    "from functools import reduce\n",
    "from collections import namedtuple\n",
    "from queue import PriorityQueue, SimpleQueue, LifoQueue\n",
    "import numpy as np\n",
    "from tqdm.auto import tqdm"
   ]
  },
  {
   "cell_type": "code",
   "execution_count": 72,
   "metadata": {},
   "outputs": [],
   "source": [
    "\n",
    "def getTrueElements(single_set):\n",
    "    return np.sum(single_set)\n",
    "\n",
    "def count_true_elements(frequencies):\n",
    "    counts = {}\n",
    "    \n",
    "    for num_el, _  in frequencies:\n",
    "        if num_el not in counts:\n",
    "            counts[num_el] = 1\n",
    "        else:\n",
    "            counts[num_el] += 1\n",
    "    return counts\n",
    "\n",
    "\n",
    "PROBLEM_SIZE = 10\n",
    "NUM_SETS = 20\n",
    "SETS = tuple(\n",
    "    np.array([random() < 0.2 for _ in range(PROBLEM_SIZE)])\n",
    "    for _ in range(NUM_SETS)\n",
    ")\n",
    "\n",
    "frequencies = [(getTrueElements(set), 1) for set in SETS]\n",
    "counts = count_true_elements(frequencies)\n",
    "\n",
    "\n",
    "State = namedtuple('State', ['taken', 'not_taken'])"
   ]
  },
  {
   "cell_type": "code",
   "execution_count": 73,
   "metadata": {},
   "outputs": [],
   "source": [
    "def goal_check(state):\n",
    "    return np.all(reduce(\n",
    "        np.logical_or,\n",
    "        [SETS[i] for i in state.taken],\n",
    "        np.array([False for _ in range(PROBLEM_SIZE)]),\n",
    "    ))\n",
    "\n",
    "def distance(state):\n",
    "    return len(state.taken)\n",
    "\n",
    "def heuristic1(state): # heuristic that return the estimate to the goal\n",
    "    dicts=counts.copy()\n",
    "    \n",
    " \n",
    "    for el in state.taken: \n",
    "        num_elements=getTrueElements(SETS[el])\n",
    "        dicts[num_elements] -= 1\n",
    "    \n",
    "    elements_to_take = PROBLEM_SIZE - np.sum(reduce(\n",
    "        np.logical_or,\n",
    "        [SETS[i] for i in state.taken],\n",
    "        np.array([False for _ in range(PROBLEM_SIZE)]),\n",
    "    ))\n",
    "    \n",
    "   \n",
    "    max_num_elements = max(dicts.keys())\n",
    "    \n",
    "   \n",
    "    h = 0 # our heuristic\n",
    "    while elements_to_take>0:\n",
    "        elements_to_take -= dicts.get(max_num_elements)\n",
    "        dicts[max_num_elements] -= 1\n",
    "       \n",
    "        dicts = dict(filter(lambda elem: elem[1] > 0, dicts.items()))\n",
    "        max_num_elements = max(dicts.keys())\n",
    "        h+=1\n",
    "\n",
    "    return h"
   ]
  },
  {
   "cell_type": "code",
   "execution_count": 74,
   "metadata": {},
   "outputs": [],
   "source": [
    "assert goal_check(\n",
    "    State(set(range(NUM_SETS)), set())\n",
    "), \"Probelm not solvable\""
   ]
  },
  {
   "cell_type": "code",
   "execution_count": 75,
   "metadata": {},
   "outputs": [
    {
     "name": "stderr",
     "output_type": "stream",
     "text": [
      "75it [00:00, 72784.08it/s]"
     ]
    },
    {
     "name": "stdout",
     "output_type": "stream",
     "text": [
      "Solved in 4 steps (3 tiles)\n"
     ]
    },
    {
     "name": "stderr",
     "output_type": "stream",
     "text": [
      "\n"
     ]
    }
   ],
   "source": [
    "frontier = PriorityQueue()\n",
    "state = State(set(), set(range(NUM_SETS)))\n",
    "frontier.put((distance(state) + heuristic1(state), state))\n",
    "counter = 0\n",
    "_, current_state = frontier.get()\n",
    "with tqdm(total=None) as pbar:\n",
    "    while not goal_check(current_state):\n",
    "\n",
    "        counter += 1\n",
    "        for action in current_state[1]:\n",
    "            new_state = State(\n",
    "                current_state.taken ^ {action},\n",
    "                current_state.not_taken ^ {action},\n",
    "            )\n",
    "            \n",
    "            curr_tuple = (distance(new_state) + heuristic1(new_state), new_state)\n",
    "            frontier.put(curr_tuple)\n",
    "            pbar.update(1) \n",
    "\n",
    "        _, current_state = frontier.get()\n",
    "    \n",
    "print(\n",
    "    f\"Solved in {counter:,} steps ({len(current_state.taken)} tiles)\"\n",
    ")\n"
   ]
  }
 ],
 "metadata": {
  "kernelspec": {
   "display_name": "venv",
   "language": "python",
   "name": "python3"
  },
  "language_info": {
   "codemirror_mode": {
    "name": "ipython",
    "version": 3
   },
   "file_extension": ".py",
   "mimetype": "text/x-python",
   "name": "python",
   "nbconvert_exporter": "python",
   "pygments_lexer": "ipython3",
   "version": "3.11.2"
  }
 },
 "nbformat": 4,
 "nbformat_minor": 2
}
