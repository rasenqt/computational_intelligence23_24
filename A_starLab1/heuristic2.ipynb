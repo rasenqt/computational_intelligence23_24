{
 "cells": [
  {
   "cell_type": "code",
   "execution_count": 6,
   "metadata": {},
   "outputs": [],
   "source": [
    "from random import random\n",
    "from functools import reduce\n",
    "from collections import namedtuple\n",
    "from queue import PriorityQueue, SimpleQueue, LifoQueue\n",
    "import heapq\n",
    "import numpy as np\n",
    "from tqdm.auto import tqdm\n",
    "import itertools"
   ]
  },
  {
   "cell_type": "code",
   "execution_count": 7,
   "metadata": {},
   "outputs": [],
   "source": [
    "\n",
    "def getTrueElements(single_set):\n",
    "    return np.sum(single_set)\n",
    "\n",
    "def count_true_elements(frequencies):\n",
    "    counts = {}\n",
    "    \n",
    "    for num_el, _  in frequencies:\n",
    "        if num_el not in counts:\n",
    "            counts[num_el] = 1\n",
    "        else:\n",
    "            counts[num_el] += 1\n",
    "    return counts\n",
    "\n",
    "\n",
    "PROBLEM_SIZE = 10\n",
    "NUM_SETS = 20\n",
    "SETS = tuple(\n",
    "    np.array([random() < 0.3 for _ in range(PROBLEM_SIZE)])\n",
    "    for _ in range(NUM_SETS)\n",
    ")\n",
    "\n",
    "mydict = {i: [] for i in range(len(SETS[0]))}\n",
    "\n",
    "for i, myset in enumerate(SETS):\n",
    "    for j, val in enumerate(myset):\n",
    "        if val:\n",
    "            mydict[j].append(i)\n",
    "\n",
    "\n",
    "State = namedtuple('State', ['taken', 'not_taken'])"
   ]
  },
  {
   "cell_type": "code",
   "execution_count": 8,
   "metadata": {},
   "outputs": [],
   "source": [
    "def goal_check(state):\n",
    "    return np.all(reduce(\n",
    "        np.logical_or,\n",
    "        [SETS[i] for i in state.taken],\n",
    "        np.array([False for _ in range(PROBLEM_SIZE)]),\n",
    "    ))\n",
    "\n",
    "def distance(state):\n",
    "    return len(state.taken)\n",
    "\n",
    "def heuristic1(state): # heuristic that return the estimate to the goal\n",
    "    newdict=mydict.copy()\n",
    "    index_boolean=reduce(\n",
    "        np.logical_or,\n",
    "        [SETS[i] for i in state.taken],\n",
    "        np.array([False for _ in range(PROBLEM_SIZE)]),)\n",
    "    for i,val in enumerate(index_boolean):\n",
    "        if(val):\n",
    "            del newdict[i]\n",
    "\n",
    "            \n",
    "        \n",
    "    \n",
    "    \n",
    "        \n",
    "    n = len(newdict)\n",
    "    combinations = []\n",
    "    for i in range(1, n + 1):\n",
    "        for subset in itertools.combinations(newdict, i):\n",
    "            for j in range(2, i + 1):\n",
    "                for subsubset in itertools.combinations(subset, j):\n",
    "                    combinations.append(subsubset)\n",
    "    combinations_sorted = sorted(combinations, key=len,reverse=True)\n",
    "    h=0\n",
    "    for combinazioni  in combinations_sorted:\n",
    "        point_remaining=newdict.keys()\n",
    "        \n",
    "        \n",
    "        point_totake=point_remaining-combinazioni\n",
    "        \n",
    "        \n",
    "        expanded = [ newdict[point] for point in combinazioni]\n",
    "        intersection = set(expanded[0]).intersection(*expanded[1:])\n",
    "        if(intersection):\n",
    "            \n",
    "            h=len(point_remaining)-len(combinazioni) +1          \n",
    "            break\n",
    "\n",
    "    return h\n",
    "        \n",
    "\n",
    "        \n",
    "          \n",
    "        \n",
    "         \n",
    "\n",
    "\n",
    "        \n"
   ]
  },
  {
   "cell_type": "code",
   "execution_count": 9,
   "metadata": {},
   "outputs": [],
   "source": [
    "assert goal_check(\n",
    "    State(set(range(NUM_SETS)), set())\n",
    "), \"Probelm not solvable\""
   ]
  },
  {
   "cell_type": "code",
   "execution_count": 10,
   "metadata": {},
   "outputs": [
    {
     "name": "stderr",
     "output_type": "stream",
     "text": [
      "58it [00:00, 1462.87it/s]"
     ]
    },
    {
     "name": "stdout",
     "output_type": "stream",
     "text": [
      "Solved in 3 steps (2 tiles)\n"
     ]
    },
    {
     "name": "stderr",
     "output_type": "stream",
     "text": [
      "\n"
     ]
    }
   ],
   "source": [
    "frontier = PriorityQueue()\n",
    "state = State(set(), set(range(NUM_SETS)))\n",
    "frontier.put((PROBLEM_SIZE, state))\n",
    "counter = 0\n",
    "_, current_state = frontier.get()\n",
    "with tqdm(total=None) as pbar:\n",
    "    while not goal_check(current_state):\n",
    "        \n",
    "        counter += 1\n",
    "        for action in current_state[1]:\n",
    "            new_state = State(\n",
    "                current_state.taken ^ {action},\n",
    "                current_state.not_taken ^ {action},\n",
    "            )\n",
    "            \n",
    "            curr_tuple = (distance(new_state) + heuristic1(new_state), new_state)\n",
    "            frontier.put(curr_tuple)\n",
    "            pbar.update(1) \n",
    "\n",
    "        _, current_state = frontier.get()\n",
    "        \n",
    "    \n",
    "print(\n",
    "    f\"Solved in {counter:,} steps ({len(current_state.taken)} tiles)\"\n",
    ")\n"
   ]
  }
 ],
 "metadata": {
  "kernelspec": {
   "display_name": "venv",
   "language": "python",
   "name": "python3"
  },
  "language_info": {
   "codemirror_mode": {
    "name": "ipython",
    "version": 3
   },
   "file_extension": ".py",
   "mimetype": "text/x-python",
   "name": "python",
   "nbconvert_exporter": "python",
   "pygments_lexer": "ipython3",
   "version": "3.11.2"
  }
 },
 "nbformat": 4,
 "nbformat_minor": 2
}
