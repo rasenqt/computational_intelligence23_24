{
 "cells": [
  {
   "cell_type": "markdown",
   "id": "185f9931-b384-4fdc-a5b2-eea785428bb8",
   "metadata": {},
   "source": [
    "Copyright **`(c)`** 2023 Giovanni Squillero `<giovanni.squillero@polito.it>`  \n",
    "[`https://github.com/squillero/computational-intelligence`](https://github.com/squillero/computational-intelligence)  \n",
    "Free for personal or classroom use; see [`LICENSE.md`](https://github.com/squillero/computational-intelligence/blob/master/LICENSE.md) for details.  "
   ]
  },
  {
   "cell_type": "code",
   "execution_count": 766,
   "id": "3ffe7245-e849-41d0-9698-5f0e0b83fee9",
   "metadata": {},
   "outputs": [],
   "source": [
    "from itertools import product\n",
    "from functools import reduce\n",
    "from random import random, randint, shuffle, seed,choice\n",
    "import numpy as np\n",
    "from scipy import sparse\n",
    "from copy import copy"
   ]
  },
  {
   "cell_type": "code",
   "execution_count": 767,
   "id": "6f03bd67-78a0-4d72-95b7-77a918727b91",
   "metadata": {},
   "outputs": [],
   "source": [
    "def make_set_covering_problem(num_points, num_sets, density):\n",
    "    \"\"\"Returns a sparse array where rows are sets and columns are the covered items\"\"\"\n",
    "    seed(num_points*2654435761+num_sets+density)\n",
    "    sets = sparse.lil_array((num_sets, num_points), dtype=bool)\n",
    "    for s, p in product(range(num_sets), range(num_points)):\n",
    "        if random() < density:\n",
    "            sets[s, p] = True\n",
    "    for p in range(num_points):\n",
    "        sets[randint(0, num_sets-1), p] = True\n",
    "    return sets"
   ]
  },
  {
   "cell_type": "markdown",
   "id": "82b0be37-21d9-492d-9a1d-cf0cdf0ddd76",
   "metadata": {},
   "source": [
    "# Halloween Challenge\n",
    "\n",
    "Find the best solution with the fewest calls to the fitness functions for:\n",
    "\n",
    "* `num_points = [100, 1_000, 5_000]`\n",
    "* `num_sets = num_points`\n",
    "* `density = [.3, .7]` "
   ]
  },
  {
   "cell_type": "code",
   "execution_count": 768,
   "id": "b74445bc",
   "metadata": {},
   "outputs": [],
   "source": [
    "\n",
    "taboo=[]\n",
    "step=0;"
   ]
  },
  {
   "cell_type": "code",
   "execution_count": 770,
   "id": "9d30a645",
   "metadata": {},
   "outputs": [],
   "source": [
    "def fitness1(state):\n",
    "    cost = sum(state)\n",
    "    valid = np.all(\n",
    "        reduce(\n",
    "            np.logical_or,\n",
    "            [sets[i] for i, t in enumerate(state) if t],\n",
    "            np.array([False for _ in range(set_and_size)]),\n",
    "        )\n",
    "    )\n",
    "    return valid, -cost\n",
    "\n",
    "def fitness(state,sets,set_and_size):\n",
    "    cost = sum(state)\n",
    "    valid = np.sum(\n",
    "        reduce(\n",
    "            \n",
    "            np.logical_or,\n",
    "            [sets[i] for i, t in enumerate(state) if t],\n",
    "            np.array([False for _ in range(set_and_size)]),\n",
    "        )\n",
    "    )\n",
    "    return valid, -cost\n"
   ]
  },
  {
   "cell_type": "code",
   "execution_count": 771,
   "id": "7bfaa0b0",
   "metadata": {},
   "outputs": [],
   "source": [
    "def tweak(state, i, y,set_and_size):\n",
    "    #TABOO_TECHNIQUE IMPLEMENTED\n",
    "  \n",
    "    if(y >=set_and_size):\n",
    "       y=set_and_size\n",
    "    new_state = copy(state) \n",
    "    while(new_state in taboo):\n",
    "     new_state = copy(state)\n",
    "     index = randint(i,y-1)\n",
    "     new_state[index] = not new_state[index]\n",
    "    taboo.append(new_state)\n",
    "    return new_state\n",
    "def tweak1(state, i, y,set_and_size):\n",
    "    #TABOO_TECHNIQUE IMPLEMENTED\n",
    "  \n",
    "    if(y >=set_and_size):\n",
    "       y=set_and_size\n",
    "    new_state = copy(state) \n",
    "    stop=0\n",
    "    while((new_state in taboo) and (stop<set_and_size)):\n",
    "     stop+=1\n",
    "     new_state = copy(state)\n",
    "     index = randint(i,y-1)\n",
    "     new_state[index] = not new_state[index]\n",
    "    taboo.append(new_state)\n",
    "    return new_state"
   ]
  },
  {
   "cell_type": "code",
   "execution_count": 772,
   "id": "e4fcb43a",
   "metadata": {},
   "outputs": [],
   "source": [
    "def iterated_local_search(current_state,indexrange,windows_size_value,set_and_size,sets):\n",
    "    step=0\n",
    "    improvements=0\n",
    "    while(fitness(current_state,sets,set_and_size)[0]!=set_and_size)or(improvements<10):\n",
    " \n",
    "    \n",
    "        new_state = tweak(current_state,indexrange,indexrange+windows_size_value,set_and_size)\n",
    "        if fitness(new_state,sets,set_and_size) > fitness(current_state,sets,set_and_size):\n",
    "            current_state = new_state\n",
    "            improvements=0\n",
    "            \n",
    "        else:\n",
    "            improvements+=1\n",
    "        step+=1\n",
    "    return step,fitness(current_state,sets,set_and_size)      \n",
    "\n",
    "def iterated_local_search2(current_state,indexrange,windows_size_value,set_and_size,sets):\n",
    "    step=0\n",
    "    improvements=0\n",
    "    reset=0\n",
    "\n",
    "    while(fitness(current_state,sets,set_and_size)[0]!=set_and_size)or(reset<5):\n",
    " \n",
    "    \n",
    "        new_state = tweak1(current_state,indexrange,indexrange+windows_size_value,set_and_size)\n",
    "       \n",
    "\n",
    "\n",
    "        if fitness(new_state,sets,set_and_size) > fitness(current_state,sets,set_and_size):\n",
    "            current_state = new_state\n",
    "            improvements=0\n",
    "            \n",
    "        else:\n",
    "            improvements+=1\n",
    "        \n",
    "        if((improvements==10)):\n",
    "            current_state = [choice([False, False, False, False, False, False]) for _ in range(set_and_size)]\n",
    "            improvements=0\n",
    "            reset+=1\n",
    "          \n",
    "        step+=1\n",
    "    return step,fitness(current_state,sets,set_and_size)      "
   ]
  },
  {
   "cell_type": "code",
   "execution_count": 773,
   "id": "6492337b-8429-472d-9c3e-c79c5b46da54",
   "metadata": {},
   "outputs": [],
   "source": [
    "\n",
    "num_points_list = [100, 1_000, 5_000]\n",
    "density_list = [0.3, 0.7]\n"
   ]
  },
  {
   "cell_type": "code",
   "execution_count": 774,
   "id": "3f061121",
   "metadata": {},
   "outputs": [
    {
     "name": "stdout",
     "output_type": "stream",
     "text": [
      "Best_value: (100, -11),FitnessCalltoSolution: 100, TotalFitnessCall: 779,num_points: 100, Density: 0.3\n",
      "Best_value: (100, -4),FitnessCalltoSolution: 328, TotalFitnessCall: 328,num_points: 100, Density: 0.7\n"
     ]
    },
    {
     "name": "stdout",
     "output_type": "stream",
     "text": [
      "Best_value: (1000, -18),FitnessCalltoSolution: 3675, TotalFitnessCall: 3675,num_points: 1000, Density: 0.3\n",
      "Best_value: (1000, -7),FitnessCalltoSolution: 1856, TotalFitnessCall: 1856,num_points: 1000, Density: 0.7\n",
      "Best_value: (5000, -24),FitnessCalltoSolution: 2088, TotalFitnessCall: 2088,num_points: 5000, Density: 0.3\n",
      "Best_value: (5000, -8),FitnessCalltoSolution: 987, TotalFitnessCall: 987,num_points: 5000, Density: 0.7\n"
     ]
    }
   ],
   "source": [
    "\n",
    "\n",
    "for num,set_and_size in enumerate(num_points_list):\n",
    "\n",
    "  # windows_size_vector=[[25,30,50,70,80,90,100],[250,500,800,1000],[2250,2500,3000,4000,5000]]\n",
    "   windows_size_vector=[[100],[1000],[5000]]\n",
    "   windows_distance=[25,50,500]\n",
    "\n",
    "   for density in density_list:\n",
    "      best_step=set_and_size\n",
    "      total_step=0 \n",
    "     \n",
    "      sets = make_set_covering_problem(set_and_size, set_and_size, density)\n",
    "      sets=sets.toarray()\n",
    "      taboo.clear()\n",
    "   #search_parameter windows_size windows_windows_distance\n",
    "      indexrange=[i for i in range(0,set_and_size,windows_distance[num])]\n",
    "      for windows_size in windows_size_vector[num]:\n",
    "         ##funzina meglio con windowsize=1000 perche parte da una soluzione grande e rimpicciolisce sempre di piu\n",
    "         for i in indexrange:\n",
    "            \n",
    "               current_state = [choice([False, False, False, False, False, False]) for _ in range(set_and_size)]\n",
    "               best_value=fitness(current_state,sets,set_and_size)\n",
    "               #print(i,windows_size)    \n",
    "               \n",
    "               \n",
    "               step,value=iterated_local_search2(current_state,i,windows_size,set_and_size,sets)\n",
    "               total_step+=step\n",
    "               if step <= best_step:\n",
    "                        best_step = total_step\n",
    "                        \n",
    "               if value >= fitness(best_value,sets,set_and_size):\n",
    "                 best_value=value\n",
    "         \n",
    "      \n",
    "\n",
    "      print(f\"Best_value: {value},FitnessCalltoSolution: {best_step}, TotalFitnessCall: {total_step},num_points: {set_and_size}, Density: {density}\")\n",
    "   \n",
    "      \n"
   ]
  }
 ],
 "metadata": {
  "kernelspec": {
   "display_name": "Python 3 (ipykernel)",
   "language": "python",
   "name": "python3"
  },
  "language_info": {
   "codemirror_mode": {
    "name": "ipython",
    "version": 3
   },
   "file_extension": ".py",
   "mimetype": "text/x-python",
   "name": "python",
   "nbconvert_exporter": "python",
   "pygments_lexer": "ipython3",
   "version": "3.11.2"
  }
 },
 "nbformat": 4,
 "nbformat_minor": 5
}
