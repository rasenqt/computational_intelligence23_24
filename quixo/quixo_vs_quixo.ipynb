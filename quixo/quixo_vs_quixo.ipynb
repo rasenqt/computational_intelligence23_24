{
 "cells": [
  {
   "cell_type": "code",
   "execution_count": null,
   "metadata": {},
   "outputs": [],
   "source": [
    "import torch\n",
    "from game import MyPlayer, TrainedPlayer\n",
    "\n",
    "player1 = MyPlayer()\n",
    "player2 = MyPlayer()\n",
    "TrainedGeneratorNet_1 = TrainedPlayer()\n",
    "TrainedGeneratorNet_2 = TrainedPlayer()\n",
    "\n",
    "\n",
    "player1.GeneratorNet.load_state_dict(torch.load('trained_params_95first.pth'))\n",
    "player2.GeneratorNet.load_state_dict(torch.load('trained_params_86second.pth'))\n",
    "\n",
    "for _ in  range(10):\n",
    "    trained_model_params_1, loss_tot = training(player1, player2, True) #player1 first\n",
    "    trained_model_params_2, loss_tot = training(player2, player1, False) #player2 second"
   ]
  }
 ],
 "metadata": {
  "language_info": {
   "name": "python"
  }
 },
 "nbformat": 4,
 "nbformat_minor": 2
}
