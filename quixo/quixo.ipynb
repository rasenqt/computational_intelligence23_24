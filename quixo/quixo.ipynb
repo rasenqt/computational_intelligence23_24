{
 "cells": [
  {
   "cell_type": "code",
   "execution_count": 3,
   "metadata": {},
   "outputs": [],
   "source": [
    "import random,numpy\n",
    "from game import Game, Move, Player\n",
    "\n",
    "\n",
    "class RandomPlayer(Player):\n",
    "    def __init__(self) -> None:\n",
    "        super().__init__()\n",
    "\n",
    "    def make_move(self, game: 'Game') -> tuple[tuple[int, int], Move]:\n",
    "        from_pos = (random.randint(0, 4), random.randint(0, 4))\n",
    "        move = random.choice([Move.TOP, Move.BOTTOM, Move.LEFT, Move.RIGHT])\n",
    "        return from_pos, move\n",
    "\n",
    "\n",
    "class MyPlayer(Player):\n",
    "    def __init__(self) -> None:\n",
    "        super().__init__()\n",
    "\n",
    "    def make_move(self, game: 'Game') -> tuple[tuple[int, int], Move]:\n",
    "        from_pos = (random.randint(0, 4), random.randint(0, 4))\n",
    "        move = random.choice([Move.TOP, Move.BOTTOM, Move.LEFT, Move.RIGHT])\n",
    "      \n",
    "        return from_pos, move\n",
    "    \n"
   ]
  },
  {
   "cell_type": "code",
   "execution_count": 5,
   "metadata": {},
   "outputs": [
    {
     "data": {
      "text/plain": [
       "array([-1, -1, -1, -1, -1, -1, -1, -1, -1, -1, -1, -1, -1, -1, -1, -1, -1,\n",
       "       -1, -1, -1, -1, -1, -1, -1, -1], dtype=int16)"
      ]
     },
     "execution_count": 5,
     "metadata": {},
     "output_type": "execute_result"
    }
   ],
   "source": [
    "board = numpy.ones((5, 5), dtype=numpy.uint8) * -1 \n",
    "board.flatten()"
   ]
  },
  {
   "cell_type": "code",
   "execution_count": 28,
   "metadata": {},
   "outputs": [
    {
     "name": "stdout",
     "output_type": "stream",
     "text": [
      "[0 4 3 2 1]\n"
     ]
    }
   ],
   "source": []
  },
  {
   "cell_type": "code",
   "execution_count": 5,
   "metadata": {},
   "outputs": [
    {
     "ename": "AttributeError",
     "evalue": "'Game' object has no attribute '_Game__take_rotation'",
     "output_type": "error",
     "traceback": [
      "\u001b[1;31m---------------------------------------------------------------------------\u001b[0m",
      "\u001b[1;31mAttributeError\u001b[0m                            Traceback (most recent call last)",
      "Cell \u001b[1;32mIn[5], line 4\u001b[0m\n\u001b[0;32m      2\u001b[0m player1 \u001b[38;5;241m=\u001b[39m MyPlayer()\n\u001b[0;32m      3\u001b[0m player2 \u001b[38;5;241m=\u001b[39m RandomPlayer()\n\u001b[1;32m----> 4\u001b[0m winner \u001b[38;5;241m=\u001b[39m \u001b[43mg\u001b[49m\u001b[38;5;241;43m.\u001b[39;49m\u001b[43mplay\u001b[49m\u001b[43m(\u001b[49m\u001b[43mplayer1\u001b[49m\u001b[43m,\u001b[49m\u001b[43m \u001b[49m\u001b[43mplayer2\u001b[49m\u001b[43m)\u001b[49m\n\u001b[0;32m      5\u001b[0m brut\u001b[38;5;241m=\u001b[39mg\u001b[38;5;241m.\u001b[39mrotate_multiple_matrix()\n\u001b[0;32m      7\u001b[0m \u001b[38;5;28mprint\u001b[39m(\u001b[38;5;124mf\u001b[39m\u001b[38;5;124m\"\u001b[39m\u001b[38;5;124mWinner: Player \u001b[39m\u001b[38;5;132;01m{\u001b[39;00mwinner\u001b[38;5;132;01m}\u001b[39;00m\u001b[38;5;124m\"\u001b[39m)\n",
      "File \u001b[1;32mc:\\Users\\night\\Desktop\\CI\\Computation_intelligence\\quixo\\game.py:242\u001b[0m, in \u001b[0;36mGame.play\u001b[1;34m(tmp_game, player1, player2)\u001b[0m\n\u001b[0;32m    239\u001b[0m     \u001b[38;5;28;01mwhile\u001b[39;00m \u001b[38;5;129;01mnot\u001b[39;00m ok:\n\u001b[0;32m    240\u001b[0m         from_pos, slide \u001b[38;5;241m=\u001b[39m players[tmp_game\u001b[38;5;241m.\u001b[39mcurrent_player_idx]\u001b[38;5;241m.\u001b[39mmake_move(\n\u001b[0;32m    241\u001b[0m             tmp_game)\n\u001b[1;32m--> 242\u001b[0m         ok \u001b[38;5;241m=\u001b[39m \u001b[43mtmp_game\u001b[49m\u001b[38;5;241;43m.\u001b[39;49m\u001b[43m__move_rotation\u001b[49m\u001b[43m(\u001b[49m\u001b[43mfrom_pos\u001b[49m\u001b[43m,\u001b[49m\u001b[43m \u001b[49m\u001b[43mslide\u001b[49m\u001b[43m,\u001b[49m\u001b[43m \u001b[49m\u001b[43mtmp_game\u001b[49m\u001b[38;5;241;43m.\u001b[39;49m\u001b[43mcurrent_player_idx\u001b[49m\u001b[43m)\u001b[49m\n\u001b[0;32m    246\u001b[0m     winner \u001b[38;5;241m=\u001b[39m tmp_game\u001b[38;5;241m.\u001b[39mcheck_winner()\n\u001b[0;32m    247\u001b[0m \u001b[38;5;28;01mreturn\u001b[39;00m winner\n",
      "File \u001b[1;32mc:\\Users\\night\\Desktop\\CI\\Computation_intelligence\\quixo\\game.py:268\u001b[0m, in \u001b[0;36mGame.__move_rotation\u001b[1;34m(tmp_game, from_pos, slide, player_id)\u001b[0m\n\u001b[0;32m    266\u001b[0m \u001b[38;5;66;03m# Oh God, Numpy arrays\u001b[39;00m\n\u001b[0;32m    267\u001b[0m prev_value \u001b[38;5;241m=\u001b[39m deepcopy(tmp_game\u001b[38;5;241m.\u001b[39m_board[(from_pos[\u001b[38;5;241m1\u001b[39m], from_pos[\u001b[38;5;241m0\u001b[39m])])\n\u001b[1;32m--> 268\u001b[0m acceptable \u001b[38;5;241m=\u001b[39m \u001b[43mtmp_game\u001b[49m\u001b[38;5;241;43m.\u001b[39;49m\u001b[43m__take_rotation\u001b[49m((from_pos[\u001b[38;5;241m1\u001b[39m], from_pos[\u001b[38;5;241m0\u001b[39m]), player_id)\n\u001b[0;32m    269\u001b[0m \u001b[38;5;28;01mif\u001b[39;00m acceptable:\n\u001b[0;32m    270\u001b[0m     acceptable \u001b[38;5;241m=\u001b[39m tmp_game\u001b[38;5;241m.\u001b[39m__slide_rotation((from_pos[\u001b[38;5;241m1\u001b[39m], from_pos[\u001b[38;5;241m0\u001b[39m]), slide)\n",
      "\u001b[1;31mAttributeError\u001b[0m: 'Game' object has no attribute '_Game__take_rotation'"
     ]
    }
   ],
   "source": [
    "g = Game()\n",
    "player1 = MyPlayer()\n",
    "player2 = RandomPlayer()\n",
    "winner = g.play(player1, player2)\n",
    "brut=g.rotate_multiple_matrix()\n",
    "\n",
    "print(f\"Winner: Player {winner}\")\n",
    "\n"
   ]
  },
  {
   "cell_type": "code",
   "execution_count": 7,
   "metadata": {},
   "outputs": [
    {
     "ename": "NameError",
     "evalue": "name 'done' is not defined",
     "output_type": "error",
     "traceback": [
      "\u001b[1;31m---------------------------------------------------------------------------\u001b[0m",
      "\u001b[1;31mNameError\u001b[0m                                 Traceback (most recent call last)",
      "Cell \u001b[1;32mIn[7], line 7\u001b[0m\n\u001b[0;32m      4\u001b[0m         q_values \u001b[38;5;241m=\u001b[39m \u001b[38;5;28mself\u001b[39m\u001b[38;5;241m.\u001b[39mmodel\u001b[38;5;241m.\u001b[39mpredict(numpy\u001b[38;5;241m.\u001b[39marray([state]))[\u001b[38;5;241m0\u001b[39m]\n\u001b[0;32m      5\u001b[0m         \u001b[38;5;28;01mreturn\u001b[39;00m numpy\u001b[38;5;241m.\u001b[39margmax(q_values)\n\u001b[1;32m----> 7\u001b[0m \u001b[38;5;28;01mwhile\u001b[39;00m \u001b[38;5;129;01mnot\u001b[39;00m \u001b[43mdone\u001b[49m:\n\u001b[0;32m      8\u001b[0m         action \u001b[38;5;241m=\u001b[39m agent\u001b[38;5;241m.\u001b[39mselect_action(state)\n\u001b[0;32m      9\u001b[0m         next_state, reward, done \u001b[38;5;241m=\u001b[39m env\u001b[38;5;241m.\u001b[39mstep(action)  \u001b[38;5;66;03m# Da implementare: esegui l'azione nell'ambiente\u001b[39;00m\n",
      "\u001b[1;31mNameError\u001b[0m: name 'done' is not defined"
     ]
    }
   ],
   "source": [
    "def select_action(self, state):\n",
    "        if numpy.random.rand() <= self.epsilon:\n",
    "            return numpy.random.choice(self.action_size)\n",
    "        q_values = self.model.predict(numpy.array([state]))[0]\n",
    "        return numpy.argmax(q_values)\n",
    "\n",
    "done= False\n",
    "while not done:\n",
    "        action = tmp_game.select_action(state)\n",
    "        next_state, reward, done = env.step(action)  # Da implementare: esegui l'azione nell'ambiente\n",
    "        # add to buffer agent.remember(state, action, reward, next_state, done)\n",
    "        agent.train()\n",
    "        state = next_state\n",
    "        total_reward += reward"
   ]
  }
 ],
 "metadata": {
  "kernelspec": {
   "display_name": "Python 3",
   "language": "python",
   "name": "python3"
  },
  "language_info": {
   "codemirror_mode": {
    "name": "ipython",
    "version": 3
   },
   "file_extension": ".py",
   "mimetype": "text/x-python",
   "name": "python",
   "nbconvert_exporter": "python",
   "pygments_lexer": "ipython3",
   "version": "3.11.2"
  }
 },
 "nbformat": 4,
 "nbformat_minor": 2
}
